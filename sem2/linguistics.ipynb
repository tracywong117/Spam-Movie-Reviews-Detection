{
 "cells": [
  {
   "cell_type": "code",
   "execution_count": 4,
   "metadata": {},
   "outputs": [],
   "source": [
    "import jieba\n",
    "from snownlp import SnowNLP\n",
    "\n",
    "def calculate_lexical_diversity(text):\n",
    "    words = jieba.lcut(text)\n",
    "    unique_words = set(words)\n",
    "    return len(unique_words) / len(words)\n",
    "\n",
    "def calculate_expressiveness(text):\n",
    "    s = SnowNLP(text)\n",
    "    adjectives_and_adverbs = 0\n",
    "    nouns_and_verbs = 0\n",
    "    for sentence in s.sentences:\n",
    "        tags = SnowNLP(sentence).tags\n",
    "        for tag in tags:\n",
    "            if tag[1] in ['a', 'ad', 'd']:\n",
    "                adjectives_and_adverbs += 1\n",
    "            elif tag[1] in ['n', 'v']:\n",
    "                nouns_and_verbs += 1\n",
    "    if nouns_and_verbs == 0:\n",
    "        return 0\n",
    "    else:\n",
    "        return adjectives_and_adverbs / nouns_and_verbs\n",
    "\n",
    "def calculate_readability(text):\n",
    "    sentences = jieba.cut(text)\n",
    "    num_sentences = 0\n",
    "    num_words = 0\n",
    "    num_conjunctions = 0\n",
    "    num_adverbs = 0\n",
    "    for sentence in sentences:\n",
    "        words = sentence.split()\n",
    "        num_sentences += 1\n",
    "        num_words += len(words)\n",
    "        for word in words:\n",
    "            tag = list(SnowNLP(word).tags)\n",
    "            # print(tag)\n",
    "            if tag[0][1] == 'c':\n",
    "                num_conjunctions += 1\n",
    "            elif tag[0][1] == 'd':\n",
    "                num_adverbs += 1\n",
    "    if num_sentences == 0:\n",
    "        return 0\n",
    "    else:\n",
    "        average_words_per_sentence = num_words / num_sentences\n",
    "        percentage_conjunctions_and_adverbs = (num_conjunctions + num_adverbs) / num_words\n",
    "        return (average_words_per_sentence + percentage_conjunctions_and_adverbs) / 2"
   ]
  },
  {
   "cell_type": "code",
   "execution_count": 5,
   "metadata": {},
   "outputs": [
    {
     "name": "stdout",
     "output_type": "stream",
     "text": [
      "Lexical diversity: 0.8571428571428571\n",
      "Expressiveness: 0.4\n",
      "Readability: 0.5476190476190477\n"
     ]
    }
   ],
   "source": [
    "text = \"皮克斯的想象力一绝，真的是极度治愈的一部电影，缓解了最近的执念和焦虑。\"\n",
    "lexical_diversity = calculate_lexical_diversity(text)\n",
    "expressiveness = calculate_expressiveness(text)\n",
    "readability = calculate_readability(text)\n",
    "print(\"Lexical diversity:\", lexical_diversity)\n",
    "print(\"Expressiveness:\", expressiveness)\n",
    "print(\"Readability:\", readability)"
   ]
  },
  {
   "cell_type": "code",
   "execution_count": 7,
   "metadata": {},
   "outputs": [
    {
     "name": "stdout",
     "output_type": "stream",
     "text": [
      "Lexical diversity: 0.8\n",
      "Expressiveness: 0.2\n",
      "Readability: 0.5\n"
     ]
    }
   ],
   "source": [
    "text = \"有笑有泪，温情动人！好看！\"\n",
    "print(\"Lexical diversity:\", calculate_lexical_diversity(text))\n",
    "print(\"Expressiveness:\", calculate_expressiveness(text))\n",
    "print(\"Readability:\", calculate_readability(text))"
   ]
  },
  {
   "cell_type": "code",
   "execution_count": 12,
   "metadata": {},
   "outputs": [
    {
     "name": "stdout",
     "output_type": "stream",
     "text": [
      "Lexical diversity: 0.875\n",
      "Expressiveness: 0.5\n",
      "Readability: 0.5625\n"
     ]
    }
   ],
   "source": [
    "text = \"当剧情开始转折，我才一下明白了前面的铺垫，也因此可以说整体观影体验很流畅，发展到什么剧情就能被勾起对应情绪，让我印象很深。\"\n",
    "print(\"Lexical diversity:\", calculate_lexical_diversity(text))\n",
    "print(\"Expressiveness:\", calculate_expressiveness(text))\n",
    "print(\"Readability:\", calculate_readability(text))"
   ]
  },
  {
   "cell_type": "code",
   "execution_count": 9,
   "metadata": {},
   "outputs": [
    {
     "name": "stdout",
     "output_type": "stream",
     "text": [
      "Lexical diversity: 0.9166666666666666\n",
      "Expressiveness: 0.3333333333333333\n",
      "Readability: 0.5833333333333334\n"
     ]
    }
   ],
   "source": [
    "text = \"很温情很治愈！哭完之后感觉能量满满了\"\n",
    "print(\"Lexical diversity:\", calculate_lexical_diversity(text))\n",
    "print(\"Expressiveness:\", calculate_expressiveness(text))\n",
    "print(\"Readability:\", calculate_readability(text))"
   ]
  }
 ],
 "metadata": {
  "kernelspec": {
   "display_name": "Python 3",
   "language": "python",
   "name": "python3"
  },
  "language_info": {
   "codemirror_mode": {
    "name": "ipython",
    "version": 3
   },
   "file_extension": ".py",
   "mimetype": "text/x-python",
   "name": "python",
   "nbconvert_exporter": "python",
   "pygments_lexer": "ipython3",
   "version": "3.10.7"
  },
  "orig_nbformat": 4,
  "vscode": {
   "interpreter": {
    "hash": "d713446f33cd161c2978384f3777198f618382834f480ed9b9017abfdef51b22"
   }
  }
 },
 "nbformat": 4,
 "nbformat_minor": 2
}
