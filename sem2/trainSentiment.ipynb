{
 "cells": [
  {
   "cell_type": "code",
   "execution_count": 1,
   "metadata": {},
   "outputs": [],
   "source": [
    "import pandas as pd\n",
    "from snownlp import sentiment"
   ]
  },
  {
   "cell_type": "code",
   "execution_count": 2,
   "metadata": {},
   "outputs": [],
   "source": [
    "DMSC = pd.read_csv('DMSC.csv')"
   ]
  },
  {
   "cell_type": "code",
   "execution_count": 3,
   "metadata": {},
   "outputs": [],
   "source": [
    "pos = DMSC[DMSC['Star'] >= 4]\n",
    "sample_pos = pos.sample(n=4000)\n",
    "with open(\"pos.txt\", \"w\", encoding=\"utf-8\") as output:\n",
    "    for row in sample_pos['Comment'].to_list():\n",
    "        output.writelines(str(row)+'\\n')"
   ]
  },
  {
   "cell_type": "code",
   "execution_count": 4,
   "metadata": {},
   "outputs": [],
   "source": [
    "neg = DMSC[DMSC['Star'] <= 2]\n",
    "sample_neg = neg.sample(n=4000)\n",
    "with open(\"neg.txt\", \"w\", encoding=\"utf-8\") as output:\n",
    "    for row in sample_neg['Comment'].to_list():\n",
    "        output.writelines(str(row)+'\\n')"
   ]
  },
  {
   "cell_type": "code",
   "execution_count": null,
   "metadata": {},
   "outputs": [],
   "source": [
    "sentiment.train('neg.txt', 'pos.txt')\n",
    "sentiment.save('sentiment.marshal')"
   ]
  },
  {
   "cell_type": "code",
   "execution_count": 5,
   "metadata": {},
   "outputs": [
    {
     "data": {
      "text/plain": [
       "0.16277068256713167"
      ]
     },
     "execution_count": 5,
     "metadata": {},
     "output_type": "execute_result"
    }
   ],
   "source": [
    "from snownlp_new import SnowNLP\n",
    "from snownlp_new import sentiment\n",
    "# trained new sentiment analyser\n",
    "s = SnowNLP(u'很久没看到这么尬的青春片了 吴磊，好好选剧本')\n",
    "s.sentiments\n"
   ]
  },
  {
   "cell_type": "code",
   "execution_count": 6,
   "metadata": {},
   "outputs": [
    {
     "data": {
      "text/plain": [
       "0.9831413826531955"
      ]
     },
     "execution_count": 6,
     "metadata": {},
     "output_type": "execute_result"
    }
   ],
   "source": [
    "from snownlp import SnowNLP\n",
    "from snownlp import sentiment\n",
    "# original \n",
    "s = SnowNLP(u'很久没看到这么尬的青春片了 吴磊，好好选剧本')\n",
    "s.sentiments\n"
   ]
  }
 ],
 "metadata": {
  "kernelspec": {
   "display_name": "Python 3",
   "language": "python",
   "name": "python3"
  },
  "language_info": {
   "codemirror_mode": {
    "name": "ipython",
    "version": 3
   },
   "file_extension": ".py",
   "mimetype": "text/x-python",
   "name": "python",
   "nbconvert_exporter": "python",
   "pygments_lexer": "ipython3",
   "version": "3.10.7"
  },
  "orig_nbformat": 4,
  "vscode": {
   "interpreter": {
    "hash": "d713446f33cd161c2978384f3777198f618382834f480ed9b9017abfdef51b22"
   }
  }
 },
 "nbformat": 4,
 "nbformat_minor": 2
}
