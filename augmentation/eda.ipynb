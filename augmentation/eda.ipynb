{
 "cells": [
  {
   "cell_type": "code",
   "execution_count": 55,
   "metadata": {},
   "outputs": [],
   "source": [
    "import jieba\n",
    "import synonyms\n",
    "import random\n",
    "from random import shuffle\n",
    "from stopwordsiso import stopwords\n",
    "\n",
    "random.seed(14)\n",
    "stop_words = stopwords([\"zh\"])\n",
    "\n",
    "def synonym_replacement(words, n):\n",
    "    new_words = words.copy()\n",
    "    random_word_list = list(set([word for word in words if word not in stop_words]))     \n",
    "    random.shuffle(random_word_list)\n",
    "    num_replaced = 0  \n",
    "    for random_word in random_word_list:          \n",
    "        synonyms = get_synonyms(random_word)\n",
    "        if len(synonyms) >= 1:\n",
    "            synonym = random.choice(synonyms)   \n",
    "            new_words = [synonym if word == random_word else word for word in new_words]   \n",
    "            num_replaced += 1\n",
    "        if num_replaced >= n: \n",
    "            break\n",
    "\n",
    "    sentence = ' '.join(new_words)\n",
    "    new_words = sentence.split(' ')\n",
    "\n",
    "    return new_words\n",
    "\n",
    "def get_synonyms(word):\n",
    "    return synonyms.nearby(word)[0]\n",
    "\n",
    "def random_insertion(words, n):\n",
    "    new_words = words.copy()\n",
    "    for _ in range(n):\n",
    "        add_word(new_words)\n",
    "    return new_words\n",
    "\n",
    "def add_word(new_words):\n",
    "    synonyms = []\n",
    "    counter = 0    \n",
    "    while len(synonyms) < 1:\n",
    "        random_word = new_words[random.randint(0, len(new_words)-1)]\n",
    "        synonyms = get_synonyms(random_word)\n",
    "        counter += 1\n",
    "        if counter >= 10:\n",
    "            return\n",
    "    random_synonym = random.choice(synonyms)\n",
    "    random_idx = random.randint(0, len(new_words)-1)\n",
    "    new_words.insert(random_idx, random_synonym)\n",
    "\n",
    "def random_swap(words, n):\n",
    "    new_words = words.copy()\n",
    "    for _ in range(n):\n",
    "        new_words = swap_word(new_words)\n",
    "    return new_words\n",
    "\n",
    "def swap_word(new_words):\n",
    "    random_idx_1 = random.randint(0, len(new_words)-1)\n",
    "    random_idx_2 = random_idx_1\n",
    "    counter = 0\n",
    "    while random_idx_2 == random_idx_1:\n",
    "        random_idx_2 = random.randint(0, len(new_words)-1)\n",
    "        counter += 1\n",
    "        if counter > 3:\n",
    "            return new_words\n",
    "    new_words[random_idx_1], new_words[random_idx_2] = new_words[random_idx_2], new_words[random_idx_1] \n",
    "    return new_words\n",
    "\n",
    "def random_deletion(words, p):\n",
    "    if len(words) == 1:\n",
    "        return words\n",
    "\n",
    "    new_words = []\n",
    "    for word in words:\n",
    "        r = random.uniform(0, 1)\n",
    "        if r > p:\n",
    "            new_words.append(word)\n",
    "\n",
    "    if len(new_words) == 0:\n",
    "        rand_int = random.randint(0, len(words)-1)\n",
    "        return [words[rand_int]]\n",
    "\n",
    "    return new_words\n",
    "\n",
    "# augmentation\n",
    "def augmentation(sentence, alpha_sr=0.3, alpha_ri=0.1, alpha_rs=0.1, p_rd=0.1, num_aug=9):\n",
    "    if len(sentence) <=4:\n",
    "        alpha_sr = 0.7\n",
    "    seg_list = jieba.cut(sentence)\n",
    "    seg_list = ' '.join(seg_list)\n",
    "    words = list(seg_list.split())\n",
    "    num_words = len(words)\n",
    "\n",
    "    augmented_sentences = []\n",
    "    num_new_per_technique = int(num_aug/4)+1\n",
    "    n_sr = max(1, int(alpha_sr * num_words))\n",
    "    n_ri = max(1, int(alpha_ri * num_words))\n",
    "    n_rs = max(1, int(alpha_rs * num_words))\n",
    "    \n",
    "    for _ in range(num_new_per_technique):\n",
    "        a_words = synonym_replacement(words, n_sr)\n",
    "        augmented_sentences.append(''.join(a_words))\n",
    "\n",
    "    for _ in range(num_new_per_technique):\n",
    "        a_words = random_insertion(words, n_ri)\n",
    "        augmented_sentences.append(''.join(a_words))\n",
    "\n",
    "    for _ in range(num_new_per_technique):\n",
    "        a_words = random_swap(words, n_rs)\n",
    "        augmented_sentences.append(''.join(a_words))\n",
    "\n",
    "    for _ in range(num_new_per_technique):\n",
    "        a_words = random_deletion(words, p_rd)\n",
    "        augmented_sentences.append(''.join(a_words))\n",
    "    \n",
    "    shuffle(augmented_sentences)\n",
    "\n",
    "    if num_aug >= 1:\n",
    "        augmented_sentences = augmented_sentences[:num_aug]\n",
    "    else:\n",
    "        keep_prob = num_aug / len(augmented_sentences)\n",
    "        augmented_sentences = [s for s in augmented_sentences if random.uniform(0, 1) < keep_prob]\n",
    "\n",
    "    augmented_sentences.append(sentence)\n",
    "\n",
    "    return augmented_sentences"
   ]
  },
  {
   "cell_type": "code",
   "execution_count": 56,
   "metadata": {},
   "outputs": [
    {
     "name": "stdout",
     "output_type": "stream",
     "text": [
      "['皮克斯的想象力一绝，真的是极度治愈的一部电影，缓解了最近的执念和焦虑。', '皮克斯的缓解一绝，最近是极度治愈的一部电影，想象力了真的的执念和焦虑。', '皮克斯的想象力一绝，真的消除是极度或者说治愈的一部电影，缓解了最近的执念和焦虑。', '皮克斯的想象力，真的是极度的一部电影缓解了最近的执念和焦虑。', '皮克斯的想象力缓解，真的是极度治愈的一部电影，一绝了最近和执念的焦虑。', '孩之宝的幽默感一绝，或许是极度治愈的第一部电影，舒缓了近来的执念和焦虑。', '皮克斯的想象力一绝，真的是极度治愈了一部电影执念缓解的最近的，和焦虑。', '第四部的想象力ZR19，也许是极度治愈的一部电影，减轻了不久前的本该和焦虑。', '皮克斯的想象力一绝，是极度治愈的一部电影，了最近的执念和焦虑。', '皮克斯的想象力一绝，真的是极度治愈的一部电影，缓解了最近的执念和焦虑。']\n"
     ]
    }
   ],
   "source": [
    "print(augmentation(sentence=\"皮克斯的想象力一绝，真的是极度治愈的一部电影，缓解了最近的执念和焦虑。\"))"
   ]
  },
  {
   "cell_type": "code",
   "execution_count": 57,
   "metadata": {},
   "outputs": [
    {
     "name": "stdout",
     "output_type": "stream",
     "text": [
      "'梦想'近义词：\n",
      "  1. 梦想:1.0\n",
      "  2. 心愿:0.7027635\n",
      "  3. 梦:0.67332053\n",
      "  4. 快乐:0.66758704\n",
      "  5. 愿望:0.65512615\n",
      "  6. 青春:0.6494938\n",
      "  7. 追梦:0.64306444\n",
      "  8. 夙愿:0.6325592\n",
      "  9. 雄心壮志:0.6264964\n",
      "  10. 梦想成真:0.6178243\n"
     ]
    }
   ],
   "source": [
    "synonyms.display(\"梦想\")"
   ]
  },
  {
   "cell_type": "code",
   "execution_count": 58,
   "metadata": {},
   "outputs": [
    {
     "name": "stdout",
     "output_type": "stream",
     "text": [
      "'青春'近义词：\n",
      "  1. 青春:1.0\n",
      "  2. 热血:0.7377811\n",
      "  3. 励志:0.7299028\n",
      "  4. 纯情:0.67202914\n",
      "  5. 纯真:0.6693155\n",
      "  6. 美少女:0.65399474\n",
      "  7. 梦幻:0.63923883\n",
      "  8. 光阴:0.63336986\n",
      "  9. 纯爱:0.6236114\n",
      "  10. 花样年华:0.6167907\n"
     ]
    }
   ],
   "source": [
    "synonyms.display(\"青春\")"
   ]
  },
  {
   "cell_type": "code",
   "execution_count": null,
   "metadata": {},
   "outputs": [],
   "source": [
    "import pandas as pd\n",
    "def gen_aug_pd(input_file, output_file, num_aug=3):\n",
    "    print(\"creating augmentated sentences...\")\n",
    "    df = pd.read_csv(input_file)\n",
    "\n",
    "    df['short_comment'] = df['short_comment'].apply(lambda x: augmentation(x, num_aug=num_aug))\n",
    "\n",
    "    df = df.explode('short_comment').reset_index(drop=True)\n",
    "\n",
    "    df.to_csv(output_file, index=False)\n",
    "\n",
    "    print(\"Created augmentated sentences.\")\n",
    "\n",
    "gen_aug_pd(\"finalized_reviews.csv\", \"augmented.csv\")"
   ]
  }
 ],
 "metadata": {
  "kernelspec": {
   "display_name": "base",
   "language": "python",
   "name": "python3"
  },
  "language_info": {
   "codemirror_mode": {
    "name": "ipython",
    "version": 3
   },
   "file_extension": ".py",
   "mimetype": "text/x-python",
   "name": "python",
   "nbconvert_exporter": "python",
   "pygments_lexer": "ipython3",
   "version": "3.10.7"
  },
  "orig_nbformat": 4
 },
 "nbformat": 4,
 "nbformat_minor": 2
}
